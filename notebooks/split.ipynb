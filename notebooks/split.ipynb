{
 "cells": [
  {
   "cell_type": "code",
   "execution_count": 8,
   "id": "b5ddcc79",
   "metadata": {},
   "outputs": [],
   "source": [
    "import pandas as pd\n",
    "df=pd.read_csv(\"../data/cleaned_dataset.csv\")"
   ]
  },
  {
   "cell_type": "code",
   "execution_count": 9,
   "id": "8f6a1f2f",
   "metadata": {},
   "outputs": [],
   "source": [
    "split=int(len(df)*0.8)\n",
    "df_train=df.iloc[:split]\n",
    "df_test=df.iloc[split:]\n",
    "df_train.to_csv(\"../data/train.csv\", index=False)\n",
    "df_test.to_csv(\"../data/test.csv\", index=False)"
   ]
  }
 ],
 "metadata": {
  "language_info": {
   "name": "python"
  }
 },
 "nbformat": 4,
 "nbformat_minor": 5
}
