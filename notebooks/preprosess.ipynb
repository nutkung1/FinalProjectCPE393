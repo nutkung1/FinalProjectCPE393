{
 "cells": [
  {
   "cell_type": "code",
   "execution_count": 3,
   "id": "ac41dabc",
   "metadata": {},
   "outputs": [],
   "source": [
    "import pandas as pd"
   ]
  },
  {
   "cell_type": "code",
   "execution_count": 4,
   "id": "8a5abbd0",
   "metadata": {},
   "outputs": [],
   "source": [
    "data = pd.read_csv('../data/Electric_Vehicle_Population_Data.csv')"
   ]
  },
  {
   "cell_type": "code",
   "execution_count": 5,
   "id": "04943140",
   "metadata": {},
   "outputs": [
    {
     "data": {
      "text/html": [
       "<div>\n",
       "<style scoped>\n",
       "    .dataframe tbody tr th:only-of-type {\n",
       "        vertical-align: middle;\n",
       "    }\n",
       "\n",
       "    .dataframe tbody tr th {\n",
       "        vertical-align: top;\n",
       "    }\n",
       "\n",
       "    .dataframe thead th {\n",
       "        text-align: right;\n",
       "    }\n",
       "</style>\n",
       "<table border=\"1\" class=\"dataframe\">\n",
       "  <thead>\n",
       "    <tr style=\"text-align: right;\">\n",
       "      <th></th>\n",
       "      <th>VIN (1-10)</th>\n",
       "      <th>County</th>\n",
       "      <th>City</th>\n",
       "      <th>State</th>\n",
       "      <th>Postal Code</th>\n",
       "      <th>Model Year</th>\n",
       "      <th>Make</th>\n",
       "      <th>Model</th>\n",
       "      <th>Electric Vehicle Type</th>\n",
       "      <th>Clean Alternative Fuel Vehicle (CAFV) Eligibility</th>\n",
       "      <th>Electric Range</th>\n",
       "      <th>Base MSRP</th>\n",
       "      <th>Legislative District</th>\n",
       "      <th>DOL Vehicle ID</th>\n",
       "      <th>Vehicle Location</th>\n",
       "      <th>Electric Utility</th>\n",
       "      <th>2020 Census Tract</th>\n",
       "    </tr>\n",
       "  </thead>\n",
       "  <tbody>\n",
       "    <tr>\n",
       "      <th>106094</th>\n",
       "      <td>WVGGNPE28N</td>\n",
       "      <td>Thurston</td>\n",
       "      <td>Lacey</td>\n",
       "      <td>WA</td>\n",
       "      <td>98516.0</td>\n",
       "      <td>2022</td>\n",
       "      <td>VOLKSWAGEN</td>\n",
       "      <td>ID.4</td>\n",
       "      <td>Battery Electric Vehicle (BEV)</td>\n",
       "      <td>Eligibility unknown as battery range has not b...</td>\n",
       "      <td>0.0</td>\n",
       "      <td>0.0</td>\n",
       "      <td>22.0</td>\n",
       "      <td>213350966</td>\n",
       "      <td>POINT (-122.75103 47.08149)</td>\n",
       "      <td>PUGET SOUND ENERGY INC</td>\n",
       "      <td>5.306701e+10</td>\n",
       "    </tr>\n",
       "    <tr>\n",
       "      <th>159084</th>\n",
       "      <td>7SAYGDEE0P</td>\n",
       "      <td>Pierce</td>\n",
       "      <td>Tacoma</td>\n",
       "      <td>WA</td>\n",
       "      <td>98444.0</td>\n",
       "      <td>2023</td>\n",
       "      <td>TESLA</td>\n",
       "      <td>MODEL Y</td>\n",
       "      <td>Battery Electric Vehicle (BEV)</td>\n",
       "      <td>Eligibility unknown as battery range has not b...</td>\n",
       "      <td>0.0</td>\n",
       "      <td>0.0</td>\n",
       "      <td>29.0</td>\n",
       "      <td>251555993</td>\n",
       "      <td>POINT (-122.43828 47.15258)</td>\n",
       "      <td>BONNEVILLE POWER ADMINISTRATION||CITY OF TACOM...</td>\n",
       "      <td>5.305306e+10</td>\n",
       "    </tr>\n",
       "  </tbody>\n",
       "</table>\n",
       "</div>"
      ],
      "text/plain": [
       "        VIN (1-10)    County    City State  Postal Code  Model Year  \\\n",
       "106094  WVGGNPE28N  Thurston   Lacey    WA      98516.0        2022   \n",
       "159084  7SAYGDEE0P    Pierce  Tacoma    WA      98444.0        2023   \n",
       "\n",
       "              Make    Model           Electric Vehicle Type  \\\n",
       "106094  VOLKSWAGEN     ID.4  Battery Electric Vehicle (BEV)   \n",
       "159084       TESLA  MODEL Y  Battery Electric Vehicle (BEV)   \n",
       "\n",
       "        Clean Alternative Fuel Vehicle (CAFV) Eligibility  Electric Range  \\\n",
       "106094  Eligibility unknown as battery range has not b...             0.0   \n",
       "159084  Eligibility unknown as battery range has not b...             0.0   \n",
       "\n",
       "        Base MSRP  Legislative District  DOL Vehicle ID  \\\n",
       "106094        0.0                  22.0       213350966   \n",
       "159084        0.0                  29.0       251555993   \n",
       "\n",
       "                   Vehicle Location  \\\n",
       "106094  POINT (-122.75103 47.08149)   \n",
       "159084  POINT (-122.43828 47.15258)   \n",
       "\n",
       "                                         Electric Utility  2020 Census Tract  \n",
       "106094                             PUGET SOUND ENERGY INC       5.306701e+10  \n",
       "159084  BONNEVILLE POWER ADMINISTRATION||CITY OF TACOM...       5.305306e+10  "
      ]
     },
     "execution_count": 5,
     "metadata": {},
     "output_type": "execute_result"
    }
   ],
   "source": [
    "data.sample(2)"
   ]
  },
  {
   "cell_type": "code",
   "execution_count": 6,
   "id": "da00d973",
   "metadata": {},
   "outputs": [
    {
     "data": {
      "text/html": [
       "<div>\n",
       "<style scoped>\n",
       "    .dataframe tbody tr th:only-of-type {\n",
       "        vertical-align: middle;\n",
       "    }\n",
       "\n",
       "    .dataframe tbody tr th {\n",
       "        vertical-align: top;\n",
       "    }\n",
       "\n",
       "    .dataframe thead th {\n",
       "        text-align: right;\n",
       "    }\n",
       "</style>\n",
       "<table border=\"1\" class=\"dataframe\">\n",
       "  <thead>\n",
       "    <tr style=\"text-align: right;\">\n",
       "      <th></th>\n",
       "      <th>Postal Code</th>\n",
       "      <th>Model Year</th>\n",
       "      <th>Electric Range</th>\n",
       "      <th>Base MSRP</th>\n",
       "      <th>Legislative District</th>\n",
       "      <th>DOL Vehicle ID</th>\n",
       "      <th>2020 Census Tract</th>\n",
       "    </tr>\n",
       "  </thead>\n",
       "  <tbody>\n",
       "    <tr>\n",
       "      <th>count</th>\n",
       "      <td>232226.000000</td>\n",
       "      <td>232230.000000</td>\n",
       "      <td>232203.000000</td>\n",
       "      <td>232203.000000</td>\n",
       "      <td>231749.000000</td>\n",
       "      <td>2.322300e+05</td>\n",
       "      <td>2.322260e+05</td>\n",
       "    </tr>\n",
       "    <tr>\n",
       "      <th>mean</th>\n",
       "      <td>98180.172044</td>\n",
       "      <td>2021.353727</td>\n",
       "      <td>46.755998</td>\n",
       "      <td>803.808973</td>\n",
       "      <td>28.880979</td>\n",
       "      <td>2.343671e+08</td>\n",
       "      <td>5.298177e+10</td>\n",
       "    </tr>\n",
       "    <tr>\n",
       "      <th>std</th>\n",
       "      <td>2489.407943</td>\n",
       "      <td>2.994884</td>\n",
       "      <td>84.373596</td>\n",
       "      <td>7246.597102</td>\n",
       "      <td>14.904503</td>\n",
       "      <td>6.831418e+07</td>\n",
       "      <td>1.507814e+09</td>\n",
       "    </tr>\n",
       "    <tr>\n",
       "      <th>min</th>\n",
       "      <td>1731.000000</td>\n",
       "      <td>1999.000000</td>\n",
       "      <td>0.000000</td>\n",
       "      <td>0.000000</td>\n",
       "      <td>1.000000</td>\n",
       "      <td>4.385000e+03</td>\n",
       "      <td>1.001020e+09</td>\n",
       "    </tr>\n",
       "    <tr>\n",
       "      <th>25%</th>\n",
       "      <td>98052.000000</td>\n",
       "      <td>2020.000000</td>\n",
       "      <td>0.000000</td>\n",
       "      <td>0.000000</td>\n",
       "      <td>17.000000</td>\n",
       "      <td>2.034737e+08</td>\n",
       "      <td>5.303301e+10</td>\n",
       "    </tr>\n",
       "    <tr>\n",
       "      <th>50%</th>\n",
       "      <td>98126.000000</td>\n",
       "      <td>2023.000000</td>\n",
       "      <td>0.000000</td>\n",
       "      <td>0.000000</td>\n",
       "      <td>32.000000</td>\n",
       "      <td>2.512717e+08</td>\n",
       "      <td>5.303303e+10</td>\n",
       "    </tr>\n",
       "    <tr>\n",
       "      <th>75%</th>\n",
       "      <td>98375.000000</td>\n",
       "      <td>2023.000000</td>\n",
       "      <td>38.000000</td>\n",
       "      <td>0.000000</td>\n",
       "      <td>42.000000</td>\n",
       "      <td>2.686943e+08</td>\n",
       "      <td>5.305307e+10</td>\n",
       "    </tr>\n",
       "    <tr>\n",
       "      <th>max</th>\n",
       "      <td>99577.000000</td>\n",
       "      <td>2025.000000</td>\n",
       "      <td>337.000000</td>\n",
       "      <td>845000.000000</td>\n",
       "      <td>49.000000</td>\n",
       "      <td>4.792548e+08</td>\n",
       "      <td>5.602100e+10</td>\n",
       "    </tr>\n",
       "  </tbody>\n",
       "</table>\n",
       "</div>"
      ],
      "text/plain": [
       "         Postal Code     Model Year  Electric Range      Base MSRP  \\\n",
       "count  232226.000000  232230.000000   232203.000000  232203.000000   \n",
       "mean    98180.172044    2021.353727       46.755998     803.808973   \n",
       "std      2489.407943       2.994884       84.373596    7246.597102   \n",
       "min      1731.000000    1999.000000        0.000000       0.000000   \n",
       "25%     98052.000000    2020.000000        0.000000       0.000000   \n",
       "50%     98126.000000    2023.000000        0.000000       0.000000   \n",
       "75%     98375.000000    2023.000000       38.000000       0.000000   \n",
       "max     99577.000000    2025.000000      337.000000  845000.000000   \n",
       "\n",
       "       Legislative District  DOL Vehicle ID  2020 Census Tract  \n",
       "count         231749.000000    2.322300e+05       2.322260e+05  \n",
       "mean              28.880979    2.343671e+08       5.298177e+10  \n",
       "std               14.904503    6.831418e+07       1.507814e+09  \n",
       "min                1.000000    4.385000e+03       1.001020e+09  \n",
       "25%               17.000000    2.034737e+08       5.303301e+10  \n",
       "50%               32.000000    2.512717e+08       5.303303e+10  \n",
       "75%               42.000000    2.686943e+08       5.305307e+10  \n",
       "max               49.000000    4.792548e+08       5.602100e+10  "
      ]
     },
     "execution_count": 6,
     "metadata": {},
     "output_type": "execute_result"
    }
   ],
   "source": [
    "data.describe()"
   ]
  },
  {
   "cell_type": "code",
   "execution_count": 7,
   "id": "8962afa7",
   "metadata": {},
   "outputs": [
    {
     "name": "stdout",
     "output_type": "stream",
     "text": [
      "Legislative District    481\n",
      "Electric Range           27\n",
      "Base MSRP                27\n",
      "Vehicle Location         11\n",
      "County                    4\n",
      "City                      4\n",
      "Postal Code               4\n",
      "Electric Utility          4\n",
      "2020 Census Tract         4\n",
      "dtype: int64\n"
     ]
    }
   ],
   "source": [
    "missing_values = data.isnull().sum()\n",
    "missing_values = missing_values[missing_values > 0].sort_values(ascending=False)\n",
    "print(missing_values)"
   ]
  },
  {
   "cell_type": "code",
   "execution_count": 8,
   "id": "1e5a7ebf",
   "metadata": {},
   "outputs": [
    {
     "data": {
      "text/plain": [
       "0"
      ]
     },
     "execution_count": 8,
     "metadata": {},
     "output_type": "execute_result"
    }
   ],
   "source": [
    "data.duplicated().sum()"
   ]
  },
  {
   "cell_type": "code",
   "execution_count": 9,
   "id": "0177bd59",
   "metadata": {},
   "outputs": [
    {
     "data": {
      "text/plain": [
       "VIN (1-10)                                            13560\n",
       "County                                                  209\n",
       "City                                                    786\n",
       "State                                                    49\n",
       "Postal Code                                             950\n",
       "Model Year                                               21\n",
       "Make                                                     46\n",
       "Model                                                   170\n",
       "Electric Vehicle Type                                     2\n",
       "Clean Alternative Fuel Vehicle (CAFV) Eligibility         3\n",
       "Electric Range                                          109\n",
       "Base MSRP                                                31\n",
       "Legislative District                                     49\n",
       "DOL Vehicle ID                                       232230\n",
       "Vehicle Location                                        948\n",
       "Electric Utility                                         76\n",
       "2020 Census Tract                                      2191\n",
       "dtype: int64"
      ]
     },
     "execution_count": 9,
     "metadata": {},
     "output_type": "execute_result"
    }
   ],
   "source": [
    "data.nunique()"
   ]
  },
  {
   "cell_type": "code",
   "execution_count": 10,
   "id": "799bb27c",
   "metadata": {},
   "outputs": [
    {
     "name": "stdout",
     "output_type": "stream",
     "text": [
      "Original shape: (232230, 17)\n",
      "Shape after dropping nulls: (231715, 17)\n",
      "Total null values remaining: 0\n"
     ]
    }
   ],
   "source": [
    "# Print original shape\n",
    "print(f\"Original shape: {data.shape}\")\n",
    "\n",
    "# Drop rows with null values\n",
    "data = data.dropna()\n",
    "\n",
    "# Print new shape\n",
    "print(f\"Shape after dropping nulls: {data.shape}\")\n",
    "\n",
    "# Verify no null values remain\n",
    "null_count = data.isnull().sum().sum()\n",
    "print(f\"Total null values remaining: {null_count}\")"
   ]
  },
  {
   "cell_type": "code",
   "execution_count": 11,
   "id": "6e9a5cb5",
   "metadata": {},
   "outputs": [
    {
     "name": "stdout",
     "output_type": "stream",
     "text": [
      "<class 'pandas.core.frame.DataFrame'>\n",
      "Index: 231715 entries, 0 to 232229\n",
      "Data columns (total 17 columns):\n",
      " #   Column                                             Non-Null Count   Dtype  \n",
      "---  ------                                             --------------   -----  \n",
      " 0   VIN (1-10)                                         231715 non-null  object \n",
      " 1   County                                             231715 non-null  object \n",
      " 2   City                                               231715 non-null  object \n",
      " 3   State                                              231715 non-null  object \n",
      " 4   Postal Code                                        231715 non-null  float64\n",
      " 5   Model Year                                         231715 non-null  int64  \n",
      " 6   Make                                               231715 non-null  object \n",
      " 7   Model                                              231715 non-null  object \n",
      " 8   Electric Vehicle Type                              231715 non-null  object \n",
      " 9   Clean Alternative Fuel Vehicle (CAFV) Eligibility  231715 non-null  object \n",
      " 10  Electric Range                                     231715 non-null  float64\n",
      " 11  Base MSRP                                          231715 non-null  float64\n",
      " 12  Legislative District                               231715 non-null  float64\n",
      " 13  DOL Vehicle ID                                     231715 non-null  int64  \n",
      " 14  Vehicle Location                                   231715 non-null  object \n",
      " 15  Electric Utility                                   231715 non-null  object \n",
      " 16  2020 Census Tract                                  231715 non-null  float64\n",
      "dtypes: float64(5), int64(2), object(10)\n",
      "memory usage: 31.8+ MB\n"
     ]
    }
   ],
   "source": [
    "data.info()"
   ]
  },
  {
   "cell_type": "code",
   "execution_count": 12,
   "id": "c35523c4",
   "metadata": {},
   "outputs": [
    {
     "name": "stdout",
     "output_type": "stream",
     "text": [
      "First 5 rows after encoding:\n",
      "   VIN (1-10)  County  City  State  Postal Code  Model Year  Make  Model  \\\n",
      "0        2523      16    27      0      98005.0        2014    41    128   \n",
      "1        4230      16    35      0      98011.0        2019    39     97   \n",
      "2        3946      33   298      0      98502.0        2025     5    163   \n",
      "3        6903      33   298      0      98513.0        2024    41    129   \n",
      "4        5280      38   382      0      98942.0        2021    39    100   \n",
      "\n",
      "   Electric Vehicle Type  Clean Alternative Fuel Vehicle (CAFV) Eligibility  \\\n",
      "0                      0                                                  0   \n",
      "1                      0                                                  0   \n",
      "2                      1                                                  0   \n",
      "3                      1                                                  0   \n",
      "4                      0                                                  1   \n",
      "\n",
      "   Electric Range  Base MSRP  Legislative District  DOL Vehicle ID  \\\n",
      "0           103.0        0.0                  41.0       186450183   \n",
      "1           220.0        0.0                   1.0       478093654   \n",
      "2            40.0        0.0                  35.0       274800718   \n",
      "3            42.0        0.0                   2.0       260758165   \n",
      "4             0.0        0.0                  15.0       236581355   \n",
      "\n",
      "   Vehicle Location  Electric Utility  2020 Census Tract  \n",
      "0               261                73       5.303302e+10  \n",
      "1               278                73       5.303302e+10  \n",
      "2               501                72       5.306701e+10  \n",
      "3               480                72       5.306701e+10  \n",
      "4               178                64       5.307700e+10  \n",
      "\n",
      "Data types after encoding:\n",
      "VIN (1-10)                                             int32\n",
      "County                                                 int32\n",
      "City                                                   int32\n",
      "State                                                  int32\n",
      "Postal Code                                          float64\n",
      "Model Year                                             int64\n",
      "Make                                                   int32\n",
      "Model                                                  int32\n",
      "Electric Vehicle Type                                  int32\n",
      "Clean Alternative Fuel Vehicle (CAFV) Eligibility      int32\n",
      "Electric Range                                       float64\n",
      "Base MSRP                                            float64\n",
      "Legislative District                                 float64\n",
      "DOL Vehicle ID                                         int64\n",
      "Vehicle Location                                       int32\n",
      "Electric Utility                                       int32\n",
      "2020 Census Tract                                    float64\n",
      "dtype: object\n",
      "\n",
      "Categorical columns remaining: []\n",
      "Total features: 17\n"
     ]
    }
   ],
   "source": [
    "from sklearn.preprocessing import LabelEncoder\n",
    "\n",
    "# Identify categorical columns\n",
    "categorical_cols = data.select_dtypes(include=['object']).columns\n",
    "\n",
    "# Apply label encoding to all categorical columns\n",
    "for col in categorical_cols:\n",
    "    le = LabelEncoder()\n",
    "    data[col] = le.fit_transform(data[col])\n",
    "\n",
    "# Verify encoding\n",
    "print(\"First 5 rows after encoding:\")\n",
    "print(data.head())\n",
    "\n",
    "# Check data types\n",
    "print(\"\\nData types after encoding:\")\n",
    "print(data.dtypes)\n",
    "\n",
    "# Confirm all columns are now numeric\n",
    "print(f\"\\nCategorical columns remaining: {data.select_dtypes(include=['object']).columns.tolist()}\")\n",
    "print(f\"Total features: {data.shape[1]}\")"
   ]
  },
  {
   "cell_type": "code",
   "execution_count": 13,
   "id": "3461c5dd",
   "metadata": {},
   "outputs": [
    {
     "name": "stdout",
     "output_type": "stream",
     "text": [
      "<class 'pandas.core.frame.DataFrame'>\n",
      "Index: 231715 entries, 0 to 232229\n",
      "Data columns (total 17 columns):\n",
      " #   Column                                             Non-Null Count   Dtype  \n",
      "---  ------                                             --------------   -----  \n",
      " 0   VIN (1-10)                                         231715 non-null  int32  \n",
      " 1   County                                             231715 non-null  int32  \n",
      " 2   City                                               231715 non-null  int32  \n",
      " 3   State                                              231715 non-null  int32  \n",
      " 4   Postal Code                                        231715 non-null  float64\n",
      " 5   Model Year                                         231715 non-null  int64  \n",
      " 6   Make                                               231715 non-null  int32  \n",
      " 7   Model                                              231715 non-null  int32  \n",
      " 8   Electric Vehicle Type                              231715 non-null  int32  \n",
      " 9   Clean Alternative Fuel Vehicle (CAFV) Eligibility  231715 non-null  int32  \n",
      " 10  Electric Range                                     231715 non-null  float64\n",
      " 11  Base MSRP                                          231715 non-null  float64\n",
      " 12  Legislative District                               231715 non-null  float64\n",
      " 13  DOL Vehicle ID                                     231715 non-null  int64  \n",
      " 14  Vehicle Location                                   231715 non-null  int32  \n",
      " 15  Electric Utility                                   231715 non-null  int32  \n",
      " 16  2020 Census Tract                                  231715 non-null  float64\n",
      "dtypes: float64(5), int32(10), int64(2)\n",
      "memory usage: 23.0 MB\n"
     ]
    }
   ],
   "source": [
    "data.info()"
   ]
  },
  {
   "cell_type": "code",
   "execution_count": 14,
   "id": "646888b8",
   "metadata": {},
   "outputs": [
    {
     "name": "stdout",
     "output_type": "stream",
     "text": [
      "Cleaned dataset saved to ../data/cleaned_dataset.csv\n"
     ]
    }
   ],
   "source": [
    "output_path = '../data/cleaned_dataset.csv'\n",
    "data.to_csv(output_path, index=False)\n",
    "print(f\"Cleaned dataset saved to {output_path}\")"
   ]
  }
 ],
 "metadata": {
  "kernelspec": {
   "display_name": "CPE393MLops",
   "language": "python",
   "name": "python3"
  },
  "language_info": {
   "codemirror_mode": {
    "name": "ipython",
    "version": 3
   },
   "file_extension": ".py",
   "mimetype": "text/x-python",
   "name": "python",
   "nbconvert_exporter": "python",
   "pygments_lexer": "ipython3",
   "version": "3.10.16"
  }
 },
 "nbformat": 4,
 "nbformat_minor": 5
}
