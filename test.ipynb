{
 "cells": [
  {
   "cell_type": "code",
   "execution_count": 12,
   "id": "4c8b7fb4",
   "metadata": {},
   "outputs": [
    {
     "name": "stdout",
     "output_type": "stream",
     "text": [
      "(45.024383402024036,)\n"
     ]
    }
   ],
   "source": [
    "import psycopg2\n",
    "from dotenv import load_dotenv\n",
    "import os\n",
    "load_dotenv(override=True)\n",
    "# Database config \n",
    "host = os.environ.get(\"AWS_RDS\")\n",
    "port = os.environ.get(\"PORT\")\n",
    "database = os.environ.get(\"DATABASE\")\n",
    "username = os.environ.get(\"USERNAME\")\n",
    "password = os.environ.get(\"PASSWORD\")\n",
    "ssl_cert_path = \"global-bundle.pem\" \n",
    "\n",
    "conn = psycopg2.connect(host=host, port=port, database=database, user=username, password=password,sslrootcert=ssl_cert_path)\n",
    "cur = conn.cursor()\n",
    "cur.execute(\"SELECT AVG(electric_range) FROM test_ev_data limit 10\") # change table here\n",
    "#table name 1.test_ev_data = test data 2.train_ev_data = from 100%train this table contain 80%train if confuse dm line ma \n",
    "rows = cur.fetchall()\n",
    "from decimal import Decimal\n",
    "\n",
    "for row in rows:\n",
    "    converted = tuple(int(val) if isinstance(val, Decimal) and val == int(val) else float(val) if isinstance(val, Decimal) else val for val in row)\n",
    "    print(converted)\n",
    "\n",
    "\n",
    "\n",
    "cur.close()\n",
    "\n",
    "conn.close()"
   ]
  },
  {
   "cell_type": "code",
   "execution_count": 13,
   "id": "2b1902d9",
   "metadata": {},
   "outputs": [
    {
     "name": "stdout",
     "output_type": "stream",
     "text": [
      "Data saved to test_ev_data.csv\n"
     ]
    }
   ],
   "source": [
    "import psycopg2\n",
    "import csv\n",
    "\n",
    "# Database config\n",
    "host = os.environ.get(\"AWS_RDS\")\n",
    "port = os.environ.get(\"PORT\")\n",
    "database = os.environ.get(\"DATABASE\")\n",
    "username = os.environ.get(\"USERNAME\")\n",
    "password = os.environ.get(\"PASSWORD\")\n",
    "ssl_cert_path = \"global-bundle.pem\"  # Ensure this file is in your project directory\n",
    "\n",
    "# Connect with SSL\n",
    "conn = psycopg2.connect(\n",
    "    host=host,\n",
    "    port=port,\n",
    "    database=database,\n",
    "    user=username,\n",
    "    password=password,\n",
    "    sslmode=\"verify-full\",\n",
    "    sslrootcert=ssl_cert_path\n",
    ")\n",
    "\n",
    "cur = conn.cursor()\n",
    "\n",
    "# Choose your table\n",
    "tablename = \"test_ev_data\"  # or \"train_ev_data\"\n",
    "\n",
    "# Execute query\n",
    "cur.execute(f\"SELECT * FROM {tablename} LIMIT 10\")\n",
    "rows = cur.fetchall()\n",
    "column_names = [desc[0] for desc in cur.description]\n",
    "\n",
    "# Save to CSV\n",
    "with open(f\"data/{tablename}.csv\", \"w\", newline=\"\") as f:\n",
    "    writer = csv.writer(f)\n",
    "    writer.writerow(column_names)\n",
    "    writer.writerows(rows)\n",
    "\n",
    "print(f\"Data saved to {tablename}.csv\")\n",
    "\n",
    "# Close connections\n",
    "cur.close()\n",
    "conn.close()\n"
   ]
  },
  {
   "cell_type": "code",
   "execution_count": null,
   "id": "ead209a9",
   "metadata": {},
   "outputs": [],
   "source": []
  }
 ],
 "metadata": {
  "kernelspec": {
   "display_name": "CPE393MLops",
   "language": "python",
   "name": "python3"
  },
  "language_info": {
   "codemirror_mode": {
    "name": "ipython",
    "version": 3
   },
   "file_extension": ".py",
   "mimetype": "text/x-python",
   "name": "python",
   "nbconvert_exporter": "python",
   "pygments_lexer": "ipython3",
   "version": "3.10.16"
  }
 },
 "nbformat": 4,
 "nbformat_minor": 5
}
